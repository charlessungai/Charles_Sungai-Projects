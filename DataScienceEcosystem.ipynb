{
 "cells": [
  {
   "cell_type": "markdown",
   "id": "23b0318a",
   "metadata": {},
   "source": [
    "# Data Science Tools and Ecosystem"
   ]
  },
  {
   "cell_type": "markdown",
   "id": "85cb2487",
   "metadata": {},
   "source": [
    "## This Notebook summarises Data Science Tools and Ecosystem"
   ]
  },
  {
   "cell_type": "markdown",
   "id": "21b9e542",
   "metadata": {},
   "source": [
    "## Objectives:\n",
    "* To list popular Data Science Languages\n",
    "* To List common Data Science Libraries\n",
    "* To List common open source Data Science tools, and \n",
    "* To perform basic Arithmatic calculations using Python"
   ]
  },
  {
   "cell_type": "markdown",
   "id": "fee5c2fe",
   "metadata": {},
   "source": [
    "### Common Data Science Languages used by Data Scientists are :\n",
    "1. Python\n",
    "2. R\n",
    "3. SQL\n",
    "4. Scala"
   ]
  },
  {
   "cell_type": "markdown",
   "id": "14a5efe7",
   "metadata": {},
   "source": [
    "## Some of the Common Libraries used by Data Scientists include:\n",
    "1. Pandas\n",
    "2. Numpy\n",
    "3. Scykitlearn\n",
    "4. Keras\n",
    "5. Pytoch\n",
    "6. Ggplot\n",
    "7. Caret"
   ]
  },
  {
   "cell_type": "markdown",
   "id": "8ec651a0",
   "metadata": {},
   "source": [
    "## Data Science Tools\n",
    "| Tools |\n",
    "| ----- |\n",
    "| Jupyter Notebook |\n",
    "| Jupyter Lab |\n",
    "| MySQL |\n",
    "| R Studio |"
   ]
  },
  {
   "cell_type": "markdown",
   "id": "b5a44b52",
   "metadata": {},
   "source": [
    "### Examples of evaluating Aritmetic Expressions in Python"
   ]
  },
  {
   "cell_type": "code",
   "execution_count": 1,
   "id": "ffca54c7",
   "metadata": {
    "scrolled": true
   },
   "outputs": [
    {
     "data": {
      "text/plain": [
       "17"
      ]
     },
     "execution_count": 1,
     "metadata": {},
     "output_type": "execute_result"
    }
   ],
   "source": [
    "## Multiplication and addition of integers\n",
    "(3*4)+5"
   ]
  },
  {
   "cell_type": "code",
   "execution_count": 2,
   "id": "16de8295",
   "metadata": {},
   "outputs": [
    {
     "data": {
      "text/plain": [
       "3.3333333333333335"
      ]
     },
     "execution_count": 2,
     "metadata": {},
     "output_type": "execute_result"
    }
   ],
   "source": [
    "# This will convert 200 mins to hrs by dividing by 60\n",
    "200/60"
   ]
  },
  {
   "cell_type": "markdown",
   "id": "584f6bdb",
   "metadata": {},
   "source": [
    "## Author\n",
    "Charles Sungai"
   ]
  },
  {
   "cell_type": "code",
   "execution_count": null,
   "id": "01db8498",
   "metadata": {},
   "outputs": [],
   "source": []
  }
 ],
 "metadata": {
  "kernelspec": {
   "display_name": "Python 3 (ipykernel)",
   "language": "python",
   "name": "python3"
  },
  "language_info": {
   "codemirror_mode": {
    "name": "ipython",
    "version": 3
   },
   "file_extension": ".py",
   "mimetype": "text/x-python",
   "name": "python",
   "nbconvert_exporter": "python",
   "pygments_lexer": "ipython3",
   "version": "3.9.7"
  }
 },
 "nbformat": 4,
 "nbformat_minor": 5
}
